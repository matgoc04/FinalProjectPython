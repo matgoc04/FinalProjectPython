{
 "cells": [
  {
   "cell_type": "markdown",
   "metadata": {},
   "source": [
    "### Làm sạch dữ liệu"
   ]
  },
  {
   "cell_type": "code",
   "execution_count": 2,
   "metadata": {},
   "outputs": [
    {
     "name": "stdout",
     "output_type": "stream",
     "text": [
      "<class 'pandas.core.frame.DataFrame'>\n",
      "RangeIndex: 108 entries, 0 to 107\n",
      "Data columns (total 54 columns):\n",
      " #   Column                         Non-Null Count  Dtype  \n",
      "---  ------                         --------------  -----  \n",
      " 0   Unnamed: 0                     108 non-null    int64  \n",
      " 1   post_id                        108 non-null    int64  \n",
      " 2   text                           108 non-null    object \n",
      " 3   post_text                      108 non-null    object \n",
      " 4   shared_text                    4 non-null      object \n",
      " 5   original_text                  0 non-null      float64\n",
      " 6   time                           108 non-null    object \n",
      " 7   timestamp                      108 non-null    int64  \n",
      " 8   image                          27 non-null     object \n",
      " 9   image_lowquality               108 non-null    object \n",
      " 10  images                         108 non-null    object \n",
      " 11  images_description             108 non-null    object \n",
      " 12  images_lowquality              108 non-null    object \n",
      " 13  images_lowquality_description  108 non-null    object \n",
      " 14  video                          78 non-null     object \n",
      " 15  video_duration_seconds         0 non-null      float64\n",
      " 16  video_height                   0 non-null      float64\n",
      " 17  video_id                       78 non-null     float64\n",
      " 18  video_quality                  0 non-null      float64\n",
      " 19  video_size_MB                  0 non-null      float64\n",
      " 20  video_thumbnail                78 non-null     object \n",
      " 21  video_watches                  0 non-null      float64\n",
      " 22  video_width                    0 non-null      float64\n",
      " 23  likes                          0 non-null      float64\n",
      " 24  comments                       108 non-null    int64  \n",
      " 25  shares                         108 non-null    int64  \n",
      " 26  post_url                       108 non-null    object \n",
      " 27  link                           5 non-null      object \n",
      " 28  links                          108 non-null    object \n",
      " 29  user_id                        108 non-null    int64  \n",
      " 30  username                       108 non-null    object \n",
      " 31  user_url                       108 non-null    object \n",
      " 32  is_live                        108 non-null    bool   \n",
      " 33  factcheck                      0 non-null      float64\n",
      " 34  shared_post_id                 0 non-null      float64\n",
      " 35  shared_time                    0 non-null      float64\n",
      " 36  shared_user_id                 0 non-null      float64\n",
      " 37  shared_username                0 non-null      float64\n",
      " 38  shared_post_url                0 non-null      float64\n",
      " 39  available                      108 non-null    bool   \n",
      " 40  comments_full                  108 non-null    object \n",
      " 41  reactors                       108 non-null    object \n",
      " 42  w3_fb_url                      108 non-null    object \n",
      " 43  reactions                      108 non-null    object \n",
      " 44  reaction_count                 108 non-null    int64  \n",
      " 45  with                           1 non-null      object \n",
      " 46  page_id                        108 non-null    int64  \n",
      " 47  sharers                        0 non-null      float64\n",
      " 48  image_id                       12 non-null     float64\n",
      " 49  image_ids                      108 non-null    object \n",
      " 50  video_ids                      15 non-null     object \n",
      " 51  videos                         15 non-null     object \n",
      " 52  was_live                       108 non-null    bool   \n",
      " 53  fetched_time                   108 non-null    object \n",
      "dtypes: bool(3), float64(17), int64(8), object(26)\n",
      "memory usage: 43.5+ KB\n"
     ]
    }
   ],
   "source": [
    "import pandas as pd\n",
    "import numpy as np\n",
    "import matplotlib.pyplot as plt\n",
    "df = pd.read_csv('FanCorgi.csv')\n",
    "df.info()"
   ]
  },
  {
   "cell_type": "code",
   "execution_count": 3,
   "metadata": {},
   "outputs": [],
   "source": [
    "# xóa những cột không cần thiết (những cột mà chứa tất cả giá trị đều null)\n",
    "# xóa những dòng có dữ liệu ít(những bài viết có lượt tương tác nhỏ hơn 400)\n",
    "df = df.dropna(axis=1, how='all')\n",
    "df = df[df['reaction_count']  > 200]\n",
    "df = df.drop(columns='Unnamed: 0')\n"
   ]
  },
  {
   "cell_type": "code",
   "execution_count": 4,
   "metadata": {},
   "outputs": [],
   "source": [
    "df = df[df['reaction_count']  > 200]\n",
    "check = df[['post_id', 'text', 'reactions', 'reaction_count', 'comments','reactors', 'comments_full', 'shares', 'time','timestamp', 'image', 'video']]\n",
    "check.to_csv('cleanCorgi.csv')"
   ]
  }
 ],
 "metadata": {
  "kernelspec": {
   "display_name": "Python 3",
   "language": "python",
   "name": "python3"
  },
  "language_info": {
   "codemirror_mode": {
    "name": "ipython",
    "version": 3
   },
   "file_extension": ".py",
   "mimetype": "text/x-python",
   "name": "python",
   "nbconvert_exporter": "python",
   "pygments_lexer": "ipython3",
   "version": "3.11.5"
  }
 },
 "nbformat": 4,
 "nbformat_minor": 2
}
